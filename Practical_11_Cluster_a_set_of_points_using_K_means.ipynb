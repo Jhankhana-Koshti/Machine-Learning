{
  "nbformat": 4,
  "nbformat_minor": 0,
  "metadata": {
    "colab": {
      "provenance": [],
      "include_colab_link": true
    },
    "kernelspec": {
      "name": "python3",
      "display_name": "Python 3"
    },
    "language_info": {
      "name": "python"
    }
  },
  "cells": [
    {
      "cell_type": "markdown",
      "metadata": {
        "id": "view-in-github",
        "colab_type": "text"
      },
      "source": [
        "<a href=\"https://colab.research.google.com/github/Jhankhana-Koshti/Machine-Learning/blob/main/Practical_11_Cluster_a_set_of_points_using_K_means.ipynb\" target=\"_parent\"><img src=\"https://colab.research.google.com/assets/colab-badge.svg\" alt=\"Open In Colab\"/></a>"
      ]
    },
    {
      "cell_type": "markdown",
      "source": [
        "#Write a program to cluster a set of points using K-means. Training and test data must be provided explicitly."
      ],
      "metadata": {
        "id": "CebNUIkFLpZe"
      }
    },
    {
      "cell_type": "code",
      "execution_count": null,
      "metadata": {
        "colab": {
          "base_uri": "https://localhost:8080/"
        },
        "id": "3zIo6NytKqNe",
        "outputId": "a6016c69-9579-4986-d897-edea3058cf44"
      },
      "outputs": [
        {
          "output_type": "stream",
          "name": "stdout",
          "text": [
            "Predicted clusters for test data:\n",
            "Point [0 0] belongs to cluster 1\n",
            "Point [5 5] belongs to cluster 0\n"
          ]
        },
        {
          "output_type": "stream",
          "name": "stderr",
          "text": [
            "/usr/local/lib/python3.10/dist-packages/sklearn/cluster/_kmeans.py:870: FutureWarning: The default value of `n_init` will change from 10 to 'auto' in 1.4. Set the value of `n_init` explicitly to suppress the warning\n",
            "  warnings.warn(\n"
          ]
        }
      ],
      "source": [
        "import numpy as np\n",
        "from sklearn.cluster import KMeans\n",
        "\n",
        "# Training data\n",
        "X_train = np.array([[1, 2], [1, 4], [1, 0], [4, 2], [4, 4], [4, 0]])\n",
        "\n",
        "# Test data\n",
        "X_test = np.array([[0, 0], [5, 5]])\n",
        "\n",
        "# Create a KMeans object with 2 clusters\n",
        "kmeans = KMeans(n_clusters=2)\n",
        "\n",
        "# Fit the model to the training data\n",
        "kmeans.fit(X_train)\n",
        "\n",
        "# Predict the clusters for the test data\n",
        "predicted_clusters = kmeans.predict(X_test)\n",
        "\n",
        "# Print the predicted clusters\n",
        "print(\"Predicted clusters for test data:\")\n",
        "for i, point in enumerate(X_test):\n",
        "    print(f\"Point {point} belongs to cluster {predicted_clusters[i]}\")"
      ]
    }
  ]
}